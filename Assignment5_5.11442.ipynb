{
 "cells": [
  {
   "cell_type": "markdown",
   "metadata": {},
   "source": [
    "How-to-count-distance-to-the-previous-zero\n",
    "\n",
    "For each value, count the difference of the distance from the previous zero (or the start\n",
    "of the Series, whichever is closer) and if there are no previous zeros,print the position\n",
    " Consider a DataFrame df where there is an integer column {'X':[7, 2, 0, 3, 4, 2, 5, 0, 3, 4]}\n",
    " The values should therefore be [1, 2, 0, 1, 2, 3, 4, 0, 1, 2]. Make this a new column 'Y'.\n",
    "\n",
    "import pandas as pd\n",
    "df = pd.DataFrame({'X': [7, 2, 0, 3, 4, 2, 5, 0, 3, 4]})"
   ]
  },
  {
   "cell_type": "code",
   "execution_count": 1,
   "metadata": {},
   "outputs": [],
   "source": [
    "import pandas as pd"
   ]
  },
  {
   "cell_type": "code",
   "execution_count": 2,
   "metadata": {},
   "outputs": [],
   "source": [
    "import numpy as np"
   ]
  },
  {
   "cell_type": "code",
   "execution_count": 3,
   "metadata": {},
   "outputs": [],
   "source": [
    "df = pd.DataFrame({'X':[7,2,0,3,4,2,5,0,3,4]})"
   ]
  },
  {
   "cell_type": "code",
   "execution_count": 4,
   "metadata": {},
   "outputs": [
    {
     "data": {
      "text/plain": [
       "0    7\n",
       "1    2\n",
       "2    0\n",
       "3    3\n",
       "4    4\n",
       "5    2\n",
       "6    5\n",
       "7    0\n",
       "8    3\n",
       "9    4\n",
       "Name: X, dtype: int64"
      ]
     },
     "execution_count": 4,
     "metadata": {},
     "output_type": "execute_result"
    }
   ],
   "source": [
    "df.X"
   ]
  },
  {
   "cell_type": "code",
   "execution_count": 6,
   "metadata": {},
   "outputs": [
    {
     "data": {
      "text/plain": [
       "0    1\n",
       "1    2\n",
       "2    2\n",
       "3    3\n",
       "4    4\n",
       "5    5\n",
       "6    6\n",
       "7    6\n",
       "8    7\n",
       "9    8\n",
       "Name: X, dtype: int32"
      ]
     },
     "execution_count": 6,
     "metadata": {},
     "output_type": "execute_result"
    }
   ],
   "source": [
    "A = (df['X'] != 0).cumsum()\n",
    "A"
   ]
  },
  {
   "cell_type": "code",
   "execution_count": 8,
   "metadata": {},
   "outputs": [],
   "source": [
    "Y = A != A.shift()"
   ]
  },
  {
   "cell_type": "code",
   "execution_count": 9,
   "metadata": {},
   "outputs": [],
   "source": [
    "Y = list(Y.groupby((Y != Y.shift()).cumsum()).cumsum())"
   ]
  },
  {
   "cell_type": "code",
   "execution_count": 10,
   "metadata": {},
   "outputs": [
    {
     "data": {
      "text/plain": [
       "array([1, 2, 0, 1, 2, 3, 4, 0, 1, 2])"
      ]
     },
     "execution_count": 10,
     "metadata": {},
     "output_type": "execute_result"
    }
   ],
   "source": [
    "np.array(Y,dtype=int)"
   ]
  },
  {
   "cell_type": "markdown",
   "metadata": {},
   "source": [
    "Create a DatetimeIndex that contains each business day of 2015 and use it to index a\n",
    "Series of random numbers."
   ]
  },
  {
   "cell_type": "code",
   "execution_count": 11,
   "metadata": {},
   "outputs": [],
   "source": [
    "DateTime_Index = pd.date_range(start='2015-01-01', end='2015-12-31', freq='B') "
   ]
  },
  {
   "cell_type": "code",
   "execution_count": 12,
   "metadata": {},
   "outputs": [
    {
     "data": {
      "text/plain": [
       "DatetimeIndex(['2015-01-01', '2015-01-02', '2015-01-05', '2015-01-06',\n",
       "               '2015-01-07', '2015-01-08', '2015-01-09', '2015-01-12',\n",
       "               '2015-01-13', '2015-01-14',\n",
       "               ...\n",
       "               '2015-12-18', '2015-12-21', '2015-12-22', '2015-12-23',\n",
       "               '2015-12-24', '2015-12-25', '2015-12-28', '2015-12-29',\n",
       "               '2015-12-30', '2015-12-31'],\n",
       "              dtype='datetime64[ns]', length=261, freq='B')"
      ]
     },
     "execution_count": 12,
     "metadata": {},
     "output_type": "execute_result"
    }
   ],
   "source": [
    "DateTime_Index"
   ]
  },
  {
   "cell_type": "code",
   "execution_count": 16,
   "metadata": {},
   "outputs": [],
   "source": [
    "s = pd.Series(np.random.rand(len(DateTime_Index)), index=DateTime_Index)"
   ]
  },
  {
   "cell_type": "code",
   "execution_count": 18,
   "metadata": {},
   "outputs": [
    {
     "data": {
      "text/plain": [
       "2015-01-01    0.870752\n",
       "2015-01-02    0.469921\n",
       "2015-01-05    0.206680\n",
       "2015-01-06    0.543378\n",
       "2015-01-07    0.081303\n",
       "2015-01-08    0.367279\n",
       "2015-01-09    0.832667\n",
       "2015-01-12    0.028422\n",
       "2015-01-13    0.675647\n",
       "2015-01-14    0.623359\n",
       "2015-01-15    0.230176\n",
       "2015-01-16    0.472627\n",
       "2015-01-19    0.171126\n",
       "2015-01-20    0.859203\n",
       "2015-01-21    0.166402\n",
       "2015-01-22    0.328118\n",
       "2015-01-23    0.831779\n",
       "2015-01-26    0.412083\n",
       "2015-01-27    0.774336\n",
       "2015-01-28    0.341979\n",
       "2015-01-29    0.945876\n",
       "2015-01-30    0.416392\n",
       "2015-02-02    0.276813\n",
       "2015-02-03    0.288893\n",
       "2015-02-04    0.803760\n",
       "2015-02-05    0.067684\n",
       "2015-02-06    0.132637\n",
       "2015-02-09    0.610510\n",
       "2015-02-10    0.027848\n",
       "2015-02-11    0.544684\n",
       "                ...   \n",
       "2015-11-20    0.049108\n",
       "2015-11-23    0.786909\n",
       "2015-11-24    0.840663\n",
       "2015-11-25    0.685370\n",
       "2015-11-26    0.556593\n",
       "2015-11-27    0.609919\n",
       "2015-11-30    0.152761\n",
       "2015-12-01    0.760482\n",
       "2015-12-02    0.352947\n",
       "2015-12-03    0.505640\n",
       "2015-12-04    0.812342\n",
       "2015-12-07    0.006246\n",
       "2015-12-08    0.247777\n",
       "2015-12-09    0.700880\n",
       "2015-12-10    0.562641\n",
       "2015-12-11    0.926679\n",
       "2015-12-14    0.399481\n",
       "2015-12-15    0.186017\n",
       "2015-12-16    0.899496\n",
       "2015-12-17    0.197903\n",
       "2015-12-18    0.506350\n",
       "2015-12-21    0.552426\n",
       "2015-12-22    0.827414\n",
       "2015-12-23    0.922350\n",
       "2015-12-24    0.364113\n",
       "2015-12-25    0.200638\n",
       "2015-12-28    0.965017\n",
       "2015-12-29    0.501908\n",
       "2015-12-30    0.184848\n",
       "2015-12-31    0.920995\n",
       "Freq: B, Length: 261, dtype: float64"
      ]
     },
     "execution_count": 18,
     "metadata": {},
     "output_type": "execute_result"
    }
   ],
   "source": [
    "s"
   ]
  },
  {
   "cell_type": "markdown",
   "metadata": {},
   "source": [
    "Find the sum of the values in s for every Wednesday"
   ]
  },
  {
   "cell_type": "code",
   "execution_count": 20,
   "metadata": {},
   "outputs": [
    {
     "data": {
      "text/plain": [
       "26.45228824293273"
      ]
     },
     "execution_count": 20,
     "metadata": {},
     "output_type": "execute_result"
    }
   ],
   "source": [
    "s[DateTime_Index.weekday == 2].sum()"
   ]
  },
  {
   "cell_type": "markdown",
   "metadata": {},
   "source": [
    "Average For each calendar month"
   ]
  },
  {
   "cell_type": "code",
   "execution_count": 21,
   "metadata": {},
   "outputs": [],
   "source": [
    "s=s.resample('M').mean()"
   ]
  },
  {
   "cell_type": "code",
   "execution_count": 22,
   "metadata": {},
   "outputs": [
    {
     "data": {
      "text/plain": [
       "2015-01-31    0.484068\n",
       "2015-02-28    0.366254\n",
       "2015-03-31    0.377815\n",
       "2015-04-30    0.456618\n",
       "2015-05-31    0.523137\n",
       "2015-06-30    0.538351\n",
       "2015-07-31    0.507482\n",
       "2015-08-31    0.551397\n",
       "2015-09-30    0.488450\n",
       "2015-10-31    0.519827\n",
       "2015-11-30    0.515517\n",
       "2015-12-31    0.543678\n",
       "Freq: M, dtype: float64"
      ]
     },
     "execution_count": 22,
     "metadata": {},
     "output_type": "execute_result"
    }
   ],
   "source": [
    "s"
   ]
  },
  {
   "cell_type": "markdown",
   "metadata": {},
   "source": [
    "For each group of four consecutive calendar months in s, find the date on which the\n",
    "highest value occurred."
   ]
  },
  {
   "cell_type": "code",
   "execution_count": 23,
   "metadata": {},
   "outputs": [
    {
     "data": {
      "text/plain": [
       "2015-01-01    0.484068\n",
       "2015-05-01    0.551397\n",
       "2015-09-01    0.543678\n",
       "2016-01-01         NaN\n",
       "dtype: float64"
      ]
     },
     "execution_count": 23,
     "metadata": {},
     "output_type": "execute_result"
    }
   ],
   "source": [
    "s.groupby(pd.Grouper(freq='4MS')).max()"
   ]
  },
  {
   "cell_type": "markdown",
   "metadata": {},
   "source": [
    "To find the date on which the highest value occurred"
   ]
  },
  {
   "cell_type": "code",
   "execution_count": 24,
   "metadata": {},
   "outputs": [
    {
     "data": {
      "text/plain": [
       "2015-01-31   2015-01-31\n",
       "2015-05-31   2015-05-31\n",
       "2015-09-30   2015-08-31\n",
       "2016-01-31   2015-12-31\n",
       "dtype: datetime64[ns]"
      ]
     },
     "execution_count": 24,
     "metadata": {},
     "output_type": "execute_result"
    }
   ],
   "source": [
    "s.groupby(pd.Grouper(freq='4M')).idxmax()"
   ]
  },
  {
   "cell_type": "code",
   "execution_count": null,
   "metadata": {},
   "outputs": [],
   "source": []
  },
  {
   "cell_type": "code",
   "execution_count": null,
   "metadata": {},
   "outputs": [],
   "source": []
  },
  {
   "cell_type": "code",
   "execution_count": null,
   "metadata": {},
   "outputs": [],
   "source": []
  },
  {
   "cell_type": "code",
   "execution_count": null,
   "metadata": {},
   "outputs": [],
   "source": []
  }
 ],
 "metadata": {
  "kernelspec": {
   "display_name": "Python 3",
   "language": "python",
   "name": "python3"
  },
  "language_info": {
   "codemirror_mode": {
    "name": "ipython",
    "version": 3
   },
   "file_extension": ".py",
   "mimetype": "text/x-python",
   "name": "python",
   "nbconvert_exporter": "python",
   "pygments_lexer": "ipython3",
   "version": "3.7.1"
  }
 },
 "nbformat": 4,
 "nbformat_minor": 2
}
